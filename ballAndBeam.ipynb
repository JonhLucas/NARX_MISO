{
 "cells": [
  {
   "cell_type": "markdown",
   "metadata": {},
   "source": [
    "## Inicializacao"
   ]
  },
  {
   "cell_type": "code",
   "execution_count": 1,
   "metadata": {},
   "outputs": [
    {
     "name": "stdout",
     "output_type": "stream",
     "text": [
      "(1000, 2)\n"
     ]
    },
    {
     "data": {
      "text/plain": [
       "\"df = pd.DataFrame(y.T, columns=['Column_A'])\\np = df.rolling(5).mean()\\np[:2] = 0\\ny = np.array(p['Column_A']).reshape((1,-1))\\ny[:, 1:] = (y[:, 1:] - y[:, :-1]) / 0.1\\nprint(u.shape, y.shape)\""
      ]
     },
     "execution_count": 1,
     "metadata": {},
     "output_type": "execute_result"
    }
   ],
   "source": [
    "import numpy as np\n",
    "import pandas as pd\n",
    "import sympy as sp\n",
    "import scipy.io as sc \n",
    "from sympy import symbols, pprint\n",
    "import matplotlib.pyplot as plt\n",
    "from structureSelector import *\n",
    "from methods.utils.utilities import *\n",
    "\n",
    "ballbeam  = np.loadtxt('data/ballbeam.dat')\n",
    "print(ballbeam.shape)\n",
    "part = ballbeam.shape[0] // 2#700\n",
    "\n",
    "u = ballbeam[:part, 0].reshape((1,-1))\n",
    "y = ballbeam[:part, 1].reshape((1,-1))\n",
    "\n",
    "'''df = pd.DataFrame(y.T, columns=['Column_A'])\n",
    "p = df.rolling(5).mean()\n",
    "p[:2] = 0\n",
    "y = np.array(p['Column_A']).reshape((1,-1))\n",
    "y[:, 1:] = (y[:, 1:] - y[:, :-1]) / 0.1\n",
    "print(u.shape, y.shape)'''"
   ]
  },
  {
   "cell_type": "markdown",
   "metadata": {},
   "source": [
    "\n",
    "## Selecao de estrutura"
   ]
  },
  {
   "cell_type": "code",
   "execution_count": null,
   "metadata": {},
   "outputs": [],
   "source": [
    "#Selecione o tanque \n",
    "output = 0  # 0 ou 1\n",
    "\n",
    "num = [5, 5]\n",
    "params = []\n",
    "params.append({'nb':[3],'na':[3], 'level':1, 'nonlinear':[1,1,0,1,0], 'root':False, 'delay':1, 'diff':True})\n",
    "#params.append({'nb':[0,2],'na':[1], 'level':1, 'nonlinear':[0,0,0,0,0], 'root':True, 'delay':0})\n",
    "\n",
    "sselector = structureSelector()\n",
    "ss = sselector.symbolic_regressors(**params[output])\n",
    "#print(ss)\n",
    "\n",
    "vCandidatos = sselector.matrix_candidate(u, y, **params[output], dt=0.1)\n",
    "\n",
    "pad = max(max(params[output]['nb']), max(params[output]['na']))\n",
    "psi, selected  = sselector.semp(vCandidatos.T, y[output, pad:], num[output], 0.000000001)\n",
    "model = ss[selected]\n",
    "#print(model, selected)\n",
    "theta = LSM(y[output, pad:], psi)\n",
    "\n",
    "print(model, theta)\n",
    "\n",
    "slivre = sselector.predict(u, y, theta, ss[selected], params[output]['nb'], params[output]['na'], output, params[output]['delay'], diff=True, dt=0.1)\n",
    "yhat = sselector.oneStepForward(u, y, theta, ss[selected], params[output]['nb'], params[output]['na'], output, diff=True, dt=0.1)\n",
    "\n",
    "def metrics(y, yest):\n",
    "    residuo1 = y - yest\n",
    "    mape = round(np.mean(np.abs(residuo1 / (yest + np.finfo(np.float64).eps))), 5)\n",
    "    print('MSE:', np.mean(np.square(residuo1)), '\\nAET:', np.sum(np.abs(residuo1)), '\\nMAPE:', str(mape) + '%')\n",
    "    cc = np.corrcoef(y, yest)\n",
    "    #print(\"Correlation pearson:\", np.mean(cc))\n",
    "\n",
    "print(\"\\nSimulação livre\")\n",
    "metrics(y, slivre)\n",
    "print(\"\\nUm passo a frente\")\n",
    "metrics(y, yhat)"
   ]
  },
  {
   "cell_type": "code",
   "execution_count": null,
   "metadata": {},
   "outputs": [],
   "source": [
    "psi"
   ]
  },
  {
   "cell_type": "markdown",
   "metadata": {},
   "source": [
    "### Simulação"
   ]
  },
  {
   "cell_type": "code",
   "execution_count": null,
   "metadata": {},
   "outputs": [],
   "source": [
    "plt.figure(figsize=(15,4))\n",
    "plt.title(\"Tanque \" + str(output+1))\n",
    "plt.plot(y[output].T, label='Original')\n",
    "plt.plot(yhat, label='um passo a frente')\n",
    "plt.plot(slivre, label='Livre')\n",
    "plt.legend()\n",
    "plt.show()"
   ]
  },
  {
   "cell_type": "code",
   "execution_count": null,
   "metadata": {},
   "outputs": [],
   "source": [
    "df = pd.DataFrame(y.T, columns=['Column_A'])\n",
    "p = df.rolling(2).mean()\n",
    "p[:2] = 0\n",
    "p = np.array(p['Column_A'])\n",
    "v = (p[1:] - p[0:-1])\n",
    "a = (v[1:] - v[:-1])/0.1\n",
    "z = np.zeros(y.shape)\n",
    "\n",
    "#plt.plot(y.T)\n",
    "plt.plot(u.T)\n",
    "plt.plot(p)\n",
    "#plt.plot(v)\n",
    "#plt.plot(a)\n",
    "'''plt.plot(u.T)\n",
    "plt.plot(z.T)'''\n",
    "plt.legend()\n",
    "plt.show()"
   ]
  },
  {
   "cell_type": "code",
   "execution_count": null,
   "metadata": {},
   "outputs": [],
   "source": [
    "du = np.zeros(u.shape)\n",
    "du[:, 1:] = (u[:, 1:] - u[:, :-1]) / 0.1\n",
    "\n",
    "uu = np.zeros(u.shape)\n",
    "yy = np.zeros(y.shape)\n",
    "for i in range(1, u.shape[1]):\n",
    "    uu[:, i] = uu[:, i-1] + u[:, i] * 0.1\n",
    "    yy[:, i] = yy[:, i-1] + (y[:,i-1] * du[:,i-1]**2)\n",
    "    \n",
    "e = 1\n",
    "pp = np.vstack(( uu[:, e:], yy[:, e:])).T\n",
    "\n",
    "theta = LSM(y[:, e:], pp)\n",
    "print(theta)\n",
    "\n",
    "r = np.zeros(y.shape)\n",
    "for i in range(1, u.shape[1]):\n",
    "    r[:, i] = r[:, i] * theta[0] + theta[2] * (r[:,i-1] * du[:,i]**2)"
   ]
  },
  {
   "cell_type": "code",
   "execution_count": null,
   "metadata": {},
   "outputs": [],
   "source": [
    "plt.plot(y.T)\n",
    "plt.plot(uu.T)\n",
    "plt.plot(yy.T)\n",
    "plt.plot(r.T)\n",
    "#plt.plot(uu.T + yy.T * 100)\n",
    "#plt.plot(pp @ theta)\n",
    "plt.show()"
   ]
  },
  {
   "cell_type": "code",
   "execution_count": null,
   "metadata": {},
   "outputs": [],
   "source": []
  },
  {
   "cell_type": "code",
   "execution_count": null,
   "metadata": {},
   "outputs": [],
   "source": [
    "\n",
    "\n",
    "plt.show()"
   ]
  }
 ],
 "metadata": {
  "kernelspec": {
   "display_name": "myenv",
   "language": "python",
   "name": "python3"
  },
  "language_info": {
   "codemirror_mode": {
    "name": "ipython",
    "version": 3
   },
   "file_extension": ".py",
   "mimetype": "text/x-python",
   "name": "python",
   "nbconvert_exporter": "python",
   "pygments_lexer": "ipython3",
   "version": "3.9.18"
  }
 },
 "nbformat": 4,
 "nbformat_minor": 2
}

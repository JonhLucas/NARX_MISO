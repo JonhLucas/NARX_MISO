{
 "cells": [
  {
   "cell_type": "markdown",
   "id": "8119deca-b419-45ae-a475-00b75d05b6d1",
   "metadata": {},
   "source": [
    "## Inicializacao"
   ]
  },
  {
   "cell_type": "code",
   "execution_count": 2,
   "id": "b7806910-69eb-44e4-9c7e-458bf68cfd37",
   "metadata": {},
   "outputs": [],
   "source": [
    "import numpy as np\n",
    "import pandas as pd\n",
    "import sympy as sp\n",
    "import scipy.io as sc \n",
    "from sympy import symbols, pprint\n",
    "import matplotlib.pyplot as plt\n",
    "from structureSelector import *\n",
    "from methods.utils.utilities import *\n",
    "\n",
    "def metrics(y, yest):\n",
    "    residuo1 = y - yest\n",
    "    mape = round(np.mean(np.abs(residuo1 / (yest + np.finfo(np.float64).eps))) * 100, 3)\n",
    "    print('MSE:', np.mean(np.square(residuo1)), '\\nAET:', np.sum(np.abs(residuo1)), '\\nMAPE:', str(mape) + '%')\n",
    "    cc = np.corrcoef(y, yest)\n",
    "    #print(\"Correlation pearson:\", np.mean(cc))\n",
    "\n",
    "dataTank = pd.read_csv('data/coupletanks.csv')\n",
    "u = np.reshape(np.array(dataTank['u']), (1,2401))\n",
    "y = np.array(dataTank[['tank1', 'tank2']].T)"
   ]
  },
  {
   "cell_type": "markdown",
   "id": "9aeacb39-aad4-4ce7-8c48-e90f803a1b76",
   "metadata": {},
   "source": [
    "## Selecao de estrutura"
   ]
  },
  {
   "cell_type": "code",
   "execution_count": null,
   "id": "f4038246-8cc3-4efb-a77f-bf4fc548eebf",
   "metadata": {},
   "outputs": [],
   "source": [
    "#Selecione o tanque \n",
    "output = 0  # 0 ou 1\n",
    "\n",
    "num = [3, 5]\n",
    "params = []\n",
    "params.append({'nb':[2,2],'na':[12], 'level':1, 'nonlinear':[0,0,0,0,0], 'root':True, 'delay':8, 'diff':True})\n",
    "params.append({'nb':[0,2],'na':[1], 'level':1, 'nonlinear':[0,0,0,0,0], 'root':True, 'delay':0, 'diff':True})\n",
    "\n",
    "sselector = structureSelector()\n",
    "ss = sselector.symbolic_regressors(**params[output])\n",
    "\n",
    "vCandidatos = sselector.matrix_candidate(u, y, **params[output], dt=0.1)\n",
    "\n",
    "pad = max(max(params[output]['nb']), max(params[output]['na']))\n",
    "psi, selected  = sselector.semp(vCandidatos.T, y[output, pad:], num[output], 0.00001)\n",
    "theta = LSM(y[output, pad:], psi)\n",
    "model = ss[selected]\n",
    "print(model, theta)"
   ]
  },
  {
   "cell_type": "markdown",
   "id": "c5e746a4-8e24-43ca-995a-ea1e73a83c7d",
   "metadata": {},
   "source": [
    "### Simulação"
   ]
  },
  {
   "cell_type": "code",
   "execution_count": null,
   "id": "00e3709a-40e3-44e2-b55a-f425b307be52",
   "metadata": {},
   "outputs": [],
   "source": [
    "\n",
    "slivre = sselector.predict(u, y, theta, ss[selected], params[output]['nb'], params[output]['na'], output, params[output]['delay'], params[output]['diff'], dt=0.1)\n",
    "yhat = sselector.oneStepForward(u, y, theta, ss[selected], params[output]['nb'], params[output]['na'], output, diff=True, dt=0.1)\n",
    "\n",
    "'''index = np.where(y[output,:] != 0)\n",
    "rs = y[output, index] - slivre[index]\n",
    "rh = y[output, index] - yhat[index]\n",
    "\n",
    "print('MAPE LIVRE:', str(round((np.mean(np.abs(rs)/y[output, index])) * 100, 4)) + '%')\n",
    "print('MAPE OSF:', str(round((np.mean(np.abs(rh)/y[output, index])) * 100, 4)) + '%')\n",
    "\n",
    "print('MSE LIVRE:', str(round((np.mean(np.abs(rs))), 4)))\n",
    "print('MSE OSF:', str(round((np.mean(np.abs(rh))), 4)))'''\n",
    "\n",
    "print(\"\\nSimulação livre\")\n",
    "metrics(y[output], slivre)\n",
    "print(\"\\nUm passo a frente\")\n",
    "metrics(y[output], yhat)\n",
    "\n",
    "plt.figure(figsize=(15,4))\n",
    "plt.title(\"Tanque \" + str(output+1))\n",
    "plt.plot(y[output].T, label='Original')\n",
    "plt.plot(yhat, label='um passo a frente')\n",
    "plt.plot(slivre, label='Livre')\n",
    "plt.legend()\n",
    "plt.show()"
   ]
  },
  {
   "cell_type": "code",
   "execution_count": null,
   "metadata": {},
   "outputs": [],
   "source": [
    "r1 = y[output].T - yhat\n",
    "r2 = y[output].T - slivre\n",
    "print(np.mean(np.abs(r1)), np.mean(np.abs(r2)))\n",
    "plt.title('Residuo')\n",
    "plt.plot(r1, label='um passo a frente')\n",
    "plt.plot(r2, label='Livre')\n",
    "plt.legend()\n",
    "plt.show()"
   ]
  },
  {
   "cell_type": "markdown",
   "id": "b239de3c-756a-4617-bbb1-76147dab076d",
   "metadata": {},
   "source": [
    "## Validação"
   ]
  },
  {
   "cell_type": "code",
   "execution_count": null,
   "id": "17f27684-e3f5-466e-9b7d-aab97b287b55",
   "metadata": {},
   "outputs": [],
   "source": [
    "mat_content1 = sc.loadmat(\"data/ct1x1.mat\")\n",
    "mat_content2 = sc.loadmat(\"data/ct1x2.mat\")\n",
    "\n",
    "tanque1 = mat_content1['Tanque1']\n",
    "tanque2 = mat_content2['Tanque2']\n",
    "\n",
    "t1 = tanque1['time'][0][0]\n",
    "v1 = tanque1['signals'][0][0]['values'][0][0]\n",
    "\n",
    "t2 = tanque2['time'][0][0]\n",
    "v2 = tanque2['signals'][0][0]['values'][0][0]\n",
    "\n",
    "input = pd.read_csv('data/xinput.csv')\n",
    "t = input['t']\n",
    "uVal = np.array(input['v']).reshape((1,-1))\n",
    "\n",
    "plt.plot(t, uVal.T, label='Entrada')\n",
    "plt.plot(t1, v1, label=\"tank 1\")\n",
    "plt.plot(t2, v2, label=\"tank 2\")\n",
    "plt.legend()\n",
    "plt.show()"
   ]
  },
  {
   "cell_type": "code",
   "execution_count": null,
   "id": "b6dfd5a7-69fb-4850-a7c9-fdacc14f8b03",
   "metadata": {},
   "outputs": [],
   "source": [
    "v1[v1 < 0] = 0\n",
    "v2[v2 < 0] = 0\n",
    "v2[:100] = 0\n",
    "yVal = np.vstack((v1.T, v2.T))\n",
    "print(yVal.shape)\n",
    "z = np.zeros(yVal.shape)\n",
    "valLivre = sselector.predict(uVal, yVal, theta, ss[selected], params[output]['nb'], params[output]['na'], output)\n",
    "yhat = sselector.oneStepForward(uVal, yVal, theta, ss[selected], params[output]['nb'], params[output]['na'], output)\n",
    "\n",
    "print(\"Modelo selecionado:\")\n",
    "pprint( model @ theta)\n",
    "\n",
    "f, ax = plt.subplots(1,2, figsize=[16,5])\n",
    "\n",
    "ax[0].plot(yVal[output].T, label='Original')\n",
    "ax[0].plot(valLivre, label='Livre')\n",
    "ax[0].plot(yhat, label='um passo a frente')\n",
    "ax[0].set_title(\"Simulações\")\n",
    "ax[0].legend()\n",
    "\n",
    "\n",
    "ax[1].plot(yVal[output].T - valLivre, label='Livre')\n",
    "ax[1].plot(yVal[output].T - yhat, label='um passo a frente')\n",
    "ax[1].set_title(\"Resíduos\")\n",
    "ax[1].legend()\n",
    "plt.show()"
   ]
  },
  {
   "cell_type": "code",
   "execution_count": null,
   "id": "dcf085a4-6b39-4906-a176-d5dd4f300664",
   "metadata": {},
   "outputs": [],
   "source": [
    "print(\"\\nSimulação livre\")\n",
    "metrics(yVal[output], valLivre)\n",
    "print(\"\\nUm passo a frente\")\n",
    "metrics(yVal[output], yhat)"
   ]
  },
  {
   "cell_type": "code",
   "execution_count": null,
   "metadata": {},
   "outputs": [],
   "source": [
    "t = t1[:100]\n",
    "\n",
    "dt = t[1]-t[0]\n",
    "h = np.cos(t)\n",
    "dh = -np.sin(t)\n",
    "ddh = -np.cos(t)\n",
    "\n",
    "dy = np.zeros(dh.shape)\n",
    "ddy = np.zeros(dh.shape)\n",
    "\n",
    "dy[1:] = (h[1:]-h[:-1])/dt\n",
    "ddy[2:] = (h[2:] - 2 * h[1:-1] +  h[:-2])/(dt**2) # y[t] - 2*y[t-1] + y[t-2]\n",
    "#print(ddy)\n",
    "\n",
    "plt.plot(t, h, label='y')\n",
    "plt.plot(t, dh, label='derivada')\n",
    "plt.plot(t, ddh, label='2º derivada')\n",
    "plt.plot(t, dy, label='aproximação derivada')\n",
    "plt.plot(t, ddy, label='aproximação da 2º derivada')\n",
    "plt.legend()\n",
    "plt.show()"
   ]
  },
  {
   "cell_type": "code",
   "execution_count": null,
   "metadata": {},
   "outputs": [],
   "source": [
    "uu = np.zeros(u.shape)\n",
    "ry = np.zeros(u.shape)\n",
    "for i in range(1, u.shape[1]):\n",
    "    uu[:, i] = uu[:, i-1] + u[:, i] * 0.02 * 0.1\n",
    "    ry[:, i] = np.sqrt(- 0.002085 * uu[:, i]**2 + 0.3206 * uu[:, i] + 0.251306)\n"
   ]
  },
  {
   "cell_type": "code",
   "execution_count": null,
   "metadata": {},
   "outputs": [],
   "source": [
    "plt.plot(uu.T)\n",
    "plt.plot(ry.T)\n",
    "plt.plot(uu.T - ry.T)\n",
    "plt.show"
   ]
  }
 ],
 "metadata": {
  "kernelspec": {
   "display_name": "Python 3 (ipykernel)",
   "language": "python",
   "name": "python3"
  },
  "language_info": {
   "codemirror_mode": {
    "name": "ipython",
    "version": 3
   },
   "file_extension": ".py",
   "mimetype": "text/x-python",
   "name": "python",
   "nbconvert_exporter": "python",
   "pygments_lexer": "ipython3",
   "version": "3.9.18"
  }
 },
 "nbformat": 4,
 "nbformat_minor": 5
}
